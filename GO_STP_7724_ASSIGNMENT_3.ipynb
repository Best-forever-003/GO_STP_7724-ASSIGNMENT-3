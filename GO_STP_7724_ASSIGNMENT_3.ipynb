{
  "nbformat": 4,
  "nbformat_minor": 0,
  "metadata": {
    "colab": {
      "name": "GO_STP_7724-ASSIGNMENT-3.ipynb",
      "provenance": [],
      "collapsed_sections": []
    },
    "kernelspec": {
      "name": "python3",
      "display_name": "Python 3"
    },
    "language_info": {
      "name": "python"
    }
  },
  "cells": [
    {
      "cell_type": "markdown",
      "metadata": {
        "id": "Ki_IysXmz9IX"
      },
      "source": [
        "**DAY 4: ASSIGNMENT 3 (Dictionary and Sets)**\n",
        "\n",
        "**DATE: 27 MAY 2021**\n",
        "\n",
        "**AUTHOR: AAMIR P**\n",
        "\n",
        "**REG. ID.: GO_STP_7724**"
      ]
    },
    {
      "cell_type": "markdown",
      "metadata": {
        "id": "Zh2cB_FV0Xj9"
      },
      "source": [
        "Q.1 Write a Python Program to sort (ascending and descending) a dictionary by value."
      ]
    },
    {
      "cell_type": "code",
      "metadata": {
        "colab": {
          "base_uri": "https://localhost:8080/"
        },
        "id": "m7ff9_lj3712",
        "outputId": "8ec2231c-d028-488f-8c08-6e8d8bd80abc"
      },
      "source": [
        "import operator #defing operator to use itemgetter\n",
        "d = {1: 2, 3: 4, 4: 3, 2: 1, 0: 0}\n",
        "print('Orginal Dictionary: ',d)\n",
        "sorted_d = dict(sorted(d.items(), key=operator.itemgetter(1))) #itemgetter(1) is for value; 0 for key\n",
        "print('Dictionary in ascending order by value',sorted_d)\n",
        "sorted_d = dict(sorted(d.items(),key=operator.itemgetter(1),reverse=True)) \n",
        "print('Dictionary in descending order by value',sorted_d)"
      ],
      "execution_count": 2,
      "outputs": [
        {
          "output_type": "stream",
          "text": [
            "Orginal Dictionary:  {1: 2, 3: 4, 4: 3, 2: 1, 0: 0}\n",
            "Dictionary in ascending order by value {0: 0, 2: 1, 1: 2, 4: 3, 3: 4}\n",
            "Dictionary in descending order by value {3: 4, 4: 3, 1: 2, 2: 1, 0: 0}\n"
          ],
          "name": "stdout"
        }
      ]
    },
    {
      "cell_type": "markdown",
      "metadata": {
        "id": "aZiiWBjQ7DIC"
      },
      "source": [
        "Q.2 Write a Python Program to add a key to a dictionary.\n",
        "\n",
        "Sample Dictionary : {0: 10, 1: 20}\n",
        "\n",
        "Expected Result : {0: 10, 1: 20, 2: 30}"
      ]
    },
    {
      "cell_type": "code",
      "metadata": {
        "colab": {
          "base_uri": "https://localhost:8080/"
        },
        "id": "iQyQUvL97GYF",
        "outputId": "d83fc569-9448-49a2-ffcf-4f56c9c31537"
      },
      "source": [
        "d={0:10,1:20}\n",
        "d.update({2:30})\n",
        "print(d)"
      ],
      "execution_count": 3,
      "outputs": [
        {
          "output_type": "stream",
          "text": [
            "{0: 10, 1: 20, 2: 30}\n"
          ],
          "name": "stdout"
        }
      ]
    },
    {
      "cell_type": "markdown",
      "metadata": {
        "id": "28VKwRoT71OT"
      },
      "source": [
        "Q.3 Write a program asks for City name and Temperature and builds a dictionary using that Later on you can input City name and it will tell you the Temperature of that City."
      ]
    },
    {
      "cell_type": "code",
      "metadata": {
        "colab": {
          "base_uri": "https://localhost:8080/"
        },
        "id": "UTVlr_CIZpjd",
        "outputId": "c5e402a4-376f-4cc7-e8ed-478933ff50e4"
      },
      "source": [
        "city1=input((\"Enter the city: \"))\n",
        "temperature1=int(input(('Enter the temperature: ')))\n",
        "city2=input((\"Enter the city: \"))\n",
        "temperature2=int(input(('Enter the temperature: ')))\n",
        "\n",
        "cities=[city1,city2]\n",
        "\n",
        "temperature=[temperature1,temperature2]\n",
        "\n",
        "zipped = zip(cities, temperature)\n",
        "zipped  # Holds an iterator object\n",
        "type(zipped)\n",
        "list(zipped)"
      ],
      "execution_count": 40,
      "outputs": [
        {
          "output_type": "stream",
          "text": [
            "Enter the city: Chennai\n",
            "Enter the temperature: 45\n",
            "Enter the city: Mumbai\n",
            "Enter the temperature: 37\n"
          ],
          "name": "stdout"
        },
        {
          "output_type": "execute_result",
          "data": {
            "text/plain": [
              "[('Chennai', 45), ('Mumbai', 37)]"
            ]
          },
          "metadata": {
            "tags": []
          },
          "execution_count": 40
        }
      ]
    },
    {
      "cell_type": "markdown",
      "metadata": {
        "id": "Nqf6HvZZbYHW"
      },
      "source": [
        "Q. 4 Write a Python program to convert list to list of dictionaries.\n",
        "\n",
        "Sample lists: [\"Black\", \"Red\", \"Maroon\", \"Yellow\"], [\"#000000\", \"#FF0000\", \"#800000\", \"#FFFF00\"]\n",
        "\n",
        "Expected Output: [{'color_name': 'Black', 'color_code': '#000000'}, {'color_name': 'Red', 'color_code': '#FF0000'}, {'color_name': 'Maroon', 'color_code': '#800000'}, {'color_name': 'Yellow', 'color_code': '#FFFF00'}]\n",
        "\n",
        "[ ]\n"
      ]
    },
    {
      "cell_type": "code",
      "metadata": {
        "colab": {
          "base_uri": "https://localhost:8080/"
        },
        "id": "ed6JFIvObhWY",
        "outputId": "6c403c36-f560-490b-a714-36e55d0abe4a"
      },
      "source": [
        "color_name = [\"Black\", \"Red\", \"Maroon\", \"Yellow\"]\n",
        "color_code = [\"#000000\", \"#FF0000\", \"#800000\", \"#FFFF00\"]\n",
        "print([{'color_name': a, 'color_code': b} for a, b in zip(color_name, color_code)])"
      ],
      "execution_count": 41,
      "outputs": [
        {
          "output_type": "stream",
          "text": [
            "[{'color_name': 'Black', 'color_code': '#000000'}, {'color_name': 'Red', 'color_code': '#FF0000'}, {'color_name': 'Maroon', 'color_code': '#800000'}, {'color_name': 'Yellow', 'color_code': '#FFFF00'}]\n"
          ],
          "name": "stdout"
        }
      ]
    },
    {
      "cell_type": "markdown",
      "metadata": {
        "id": "JPHtIwY4b8y-"
      },
      "source": [
        "Q. 5 We have following information on Employees and their Salary (Salary is in lakhs),\n",
        "\n",
        "Employee Salary\n",
        "\n",
        "John 14\n",
        "\n",
        "Smith 13\n",
        "\n",
        "Alice 32\n",
        "\n",
        "Daneil 21\n",
        "\n",
        "Using above create a dictionary of Employees and their Salary Write a program that asks user for three type of inputs, print: if user enter print then it should print all Employees with their Salary in this format,\n",
        "\n",
        "John ==>14\n",
        "\n",
        "Smith ==>13\n",
        "\n",
        "Alice ==>32\n",
        "\n",
        "Daneil ==>21\n",
        "\n",
        "add: if user input adds then it should further ask for an Employee name to add. If Employee already exists in our dataset then it should print that it exists and do nothing. If it doesn't then it asks for Salary and add that new Employee/Salary in our dictionary and print it\n",
        "\n",
        "remove: when user inputs remove it should ask for an Employee to remove. If an Employee exists in our dictionary then remove it and print a new dictionary using format shown above in (a). Else print that Employee doesn't exist!\n",
        "\n",
        "query: on this again ask the user for which Employee he or she wants to query. When a user inputs that Employee it will print the Salary of that Employee."
      ]
    },
    {
      "cell_type": "code",
      "metadata": {
        "colab": {
          "base_uri": "https://localhost:8080/"
        },
        "id": "Nig9Oc2Bb_ap",
        "outputId": "b271bc36-b043-4e45-bd56-7783ea279a21"
      },
      "source": [
        "#create dictionary\n",
        "emp_sal={'John':14,'Smith':13,'Alice':32,'Daneil':21} \n",
        "emp_sal"
      ],
      "execution_count": 46,
      "outputs": [
        {
          "output_type": "execute_result",
          "data": {
            "text/plain": [
              "{'Alice': 32, 'Daneil': 21, 'John': 14, 'Smith': 13}"
            ]
          },
          "metadata": {
            "tags": []
          },
          "execution_count": 46
        }
      ]
    },
    {
      "cell_type": "code",
      "metadata": {
        "colab": {
          "base_uri": "https://localhost:8080/"
        },
        "id": "4a8tmsQ3djFS",
        "outputId": "7020eb42-3c81-49fe-ddb3-ceecb4c5dc19"
      },
      "source": [
        "d={'John': 14, 'Smith': 13, 'Alice': 32, 'Daniel':21 }\n",
        "n=0\n",
        "while(n<=3):\n",
        "  a=input(\"Enter your choice of the following: a)Print b)Add c)Remove d)Query: \")\n",
        "  if a=='Print':\n",
        "    for i in d:\n",
        "      print(i+\" ==> \",d[i])\n",
        "\n",
        "\n",
        "  elif a=='Add':\n",
        "    f=0\n",
        "    name= input(\"Enter the name of employee: \")\n",
        "    for i in d:\n",
        "      if i==name:\n",
        "        print(\"Employee already exists!\")\n",
        "        f=1\n",
        "        \n",
        "    if f==0:\n",
        "      salary=input(\"Enter The salary(in lakhs): \")\n",
        "      d[name]= salary\n",
        "      print (d)\n",
        "      \n",
        "    \n",
        "\n",
        "\n",
        "  elif a=='Remove':\n",
        "    flag=0\n",
        "    rname=input(\"Enter the employee you want to remove: \")\n",
        "    for j in d:\n",
        "      if j==rname:\n",
        "        d.pop(rname)\n",
        "        flag=1\n",
        "        \n",
        "    if flag==0:\n",
        "      print(\"Name does not exist!\")\n",
        "    else:\n",
        "      print(d)\n",
        "\n",
        "\n",
        "  elif a=='Query':\n",
        "    qname= input(\"Enter the name you want to query about: \")\n",
        "    for k in d:\n",
        "      if k==qname:\n",
        "        print(k+\"==>\",d[k])\n",
        "        flag1=1\n",
        "    if flag1==0:\n",
        "      print(\"Employee does not exist!\")\n",
        "\n",
        "        \n",
        "  n=n+1"
      ],
      "execution_count": 60,
      "outputs": [
        {
          "output_type": "stream",
          "text": [
            "Enter your choice of the following: a)Print b)Add c)Remove d)Query: Query\n",
            "Enter the name you want to query about: Alice\n",
            "Alice==> 32\n",
            "Enter your choice of the following: a)Print b)Add c)Remove d)Query: Add\n",
            "Enter the name of employee: Wasim\n",
            "Enter The salary(in lakhs): 21\n",
            "{'John': 14, 'Smith': 13, 'Alice': 32, 'Daniel': 21, 'Wasim': '21'}\n",
            "Enter your choice of the following: a)Print b)Add c)Remove d)Query: Remove\n",
            "Enter the employee you want to remove: Priya\n",
            "Name does not exist!\n",
            "Enter your choice of the following: a)Print b)Add c)Remove d)Query: Print\n",
            "John ==>  14\n",
            "Smith ==>  13\n",
            "Alice ==>  32\n",
            "Daniel ==>  21\n",
            "Wasim ==>  21\n"
          ],
          "name": "stdout"
        }
      ]
    },
    {
      "cell_type": "markdown",
      "metadata": {
        "id": "HCZmHeXVgpr2"
      },
      "source": [
        "Questions on Sets-\n",
        "\n",
        "Q.1 What is the difference between a set and a frozenset? Create any set and try to use frozenset(setname)."
      ]
    },
    {
      "cell_type": "markdown",
      "metadata": {
        "id": "qoRZ9x6Hg1Nb"
      },
      "source": [
        "Frozen set is just an immutable version of a Python set object. While elements of a set can\n",
        "be modied at any time, elements of the frozen set remain the same after creation. Due to this,\n",
        "frozen sets can be used as keys in Dictionary or as elements of another set.\n"
      ]
    },
    {
      "cell_type": "code",
      "metadata": {
        "colab": {
          "base_uri": "https://localhost:8080/"
        },
        "id": "YnUWETFHg13b",
        "outputId": "1a944369-a794-4912-96d2-669e29734421"
      },
      "source": [
        "x = set(\"A Python Tutorial\")\n",
        "print(x)\n",
        "print(type(x))\n"
      ],
      "execution_count": 62,
      "outputs": [
        {
          "output_type": "stream",
          "text": [
            "{'o', 'A', 'l', 't', 'T', 'i', 'u', 'P', 'r', 'n', 'a', ' ', 'h', 'y'}\n",
            "<class 'set'>\n"
          ],
          "name": "stdout"
        }
      ]
    },
    {
      "cell_type": "code",
      "metadata": {
        "colab": {
          "base_uri": "https://localhost:8080/"
        },
        "id": "oOq1enplhbon",
        "outputId": "f70f5801-0136-478d-b6db-fc287cd0d8ca"
      },
      "source": [
        "fSet = frozenset(x)\n",
        "print('The frozen set is:', fSet)\n",
        "print(type(fSet))"
      ],
      "execution_count": 64,
      "outputs": [
        {
          "output_type": "stream",
          "text": [
            "The frozen set is: frozenset({'o', 'A', 'l', 't', 'T', 'i', 'u', 'P', 'r', 'n', 'a', ' ', 'h', 'y'})\n",
            "<class 'frozenset'>\n"
          ],
          "name": "stdout"
        }
      ]
    },
    {
      "cell_type": "markdown",
      "metadata": {
        "id": "M-SCTRABhsRP"
      },
      "source": [
        "Q.2 Find the elements in a given set that are not in another set\n",
        "set1 = {10,20,30,40,50}\n",
        "set2 = {40,50,60,70,80}\n",
        "Difference between set1 and set2 is {10,20,30}\n"
      ]
    },
    {
      "cell_type": "code",
      "metadata": {
        "colab": {
          "base_uri": "https://localhost:8080/"
        },
        "id": "hfBp3uWwh238",
        "outputId": "a8cdef49-3e9d-48d0-d8b2-3b0ba2afdcb3"
      },
      "source": [
        "set1 = {10,20,30,40,50}\n",
        "set2 = {40,50,60,70,80}\n",
        "print(\"Original sets:\")\n",
        "print(set1)\n",
        "print(set2)\n",
        "print(\"Difference of set1 and set2 using difference():\")\n",
        "print(set1.difference(set2))\n",
        "print(\"Difference of set2 and set1 using difference():\")\n",
        "print(set2.difference(set1))\n"
      ],
      "execution_count": 65,
      "outputs": [
        {
          "output_type": "stream",
          "text": [
            "Original sets:\n",
            "{40, 10, 50, 20, 30}\n",
            "{70, 40, 80, 50, 60}\n",
            "Difference of set1 and set2 using difference():\n",
            "{10, 20, 30}\n",
            "Difference of set2 and set1 using difference():\n",
            "{80, 60, 70}\n"
          ],
          "name": "stdout"
        }
      ]
    }
  ]
}